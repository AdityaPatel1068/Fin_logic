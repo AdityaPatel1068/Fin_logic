{
 "cells": [
  {
   "cell_type": "code",
   "execution_count": 11,
   "metadata": {},
   "outputs": [],
   "source": [
    "from urllib.request import urlopen, Request\n",
    "from bs4 import BeautifulSoup\n",
    "from nltk.sentiment.vader import SentimentIntensityAnalyzer\n",
    "import pandas as pd\n",
    "import matplotlib.pyplot as plt\n",
    "\n",
    "finviz_url = 'https://finviz.com/quote.ashx?t='\n",
    "tickers = ['AMZN', 'GOOG', 'META']  \n",
    "\n",
    "news_tables = {}\n",
    "for ticker in tickers:\n",
    "    url = finviz_url + ticker\n",
    "\n",
    "    req = Request(url=url, headers={'user-agent': 'my-app'})\n",
    "    \n",
    "    try:\n",
    "        response = urlopen(req)\n",
    "        html = BeautifulSoup(response, features='html.parser')\n",
    "        news_table = html.find(id='news-table')\n",
    "        \n",
    "        # Handle missing news table\n",
    "        if news_table:\n",
    "            news_tables[ticker] = news_table\n",
    "        else:\n",
    "            print(f\"No news table found for {ticker}\")\n",
    "    \n",
    "    except Exception as e:\n",
    "        print(f\"An error occurred for {ticker}: {e}\")\n",
    "\n"
   ]
  },
  {
   "cell_type": "code",
   "execution_count": 12,
   "metadata": {},
   "outputs": [],
   "source": [
    "parsed_data = []\n",
    "\n",
    "for ticker, news_table in news_tables.items():\n",
    "    for row in news_table.findAll('tr'):\n",
    "        # Check if 'a' and 'td' tags exist in the row\n",
    "        title_tag = row.find('a')\n",
    "        date_tag = row.find('td')\n",
    "        \n",
    "        if title_tag and date_tag:\n",
    "            title = title_tag.text\n",
    "            date_data = date_tag.text.split(' ')\n",
    "            \n",
    "            if len(date_data) == 1:\n",
    "                time = date_data[0]\n",
    "                date = None  # Assign None if date is missing\n",
    "            else:\n",
    "                date = date_data[0]\n",
    "                time = date_data[1]\n",
    "\n",
    "            parsed_data.append([ticker, date, time, title])\n",
    "\n"
   ]
  },
  {
   "cell_type": "code",
   "execution_count": 14,
   "metadata": {},
   "outputs": [],
   "source": [
    "# Convert to DataFrame\n",
    "df = pd.DataFrame(parsed_data, columns=['ticker', 'date', 'time', 'title'])\n",
    "\n",
    "# Handle missing dates gracefully\n",
    "df['date'] = pd.to_datetime(df['date'], errors='coerce').dt.date\n",
    "\n"
   ]
  },
  {
   "cell_type": "code",
   "execution_count": 18,
   "metadata": {},
   "outputs": [
    {
     "name": "stderr",
     "output_type": "stream",
     "text": [
      "[nltk_data] Downloading package vader_lexicon to\n",
      "[nltk_data]     /Users/aditya/nltk_data...\n"
     ]
    },
    {
     "data": {
      "text/plain": [
       "True"
      ]
     },
     "execution_count": 18,
     "metadata": {},
     "output_type": "execute_result"
    }
   ],
   "source": [
    "import nltk\n",
    "nltk.download('vader_lexicon')\n"
   ]
  },
  {
   "cell_type": "code",
   "execution_count": 19,
   "metadata": {},
   "outputs": [
    {
     "name": "stdout",
     "output_type": "stream",
     "text": [
      "No valid data available for plotting.\n"
     ]
    }
   ],
   "source": [
    "from nltk.sentiment.vader import SentimentIntensityAnalyzer\n",
    "import pandas as pd\n",
    "import matplotlib.pyplot as plt\n",
    "\n",
    "# Sentiment analysis using VADER\n",
    "vader = SentimentIntensityAnalyzer()\n",
    "\n",
    "# Apply VADER sentiment analysis to each title\n",
    "df['compound'] = df['title'].apply(lambda title: vader.polarity_scores(title)['compound'])\n",
    "\n",
    "# Ensure date column is correctly formatted (if not already)\n",
    "df['date'] = pd.to_datetime(df['date'], errors='coerce').dt.date\n",
    "\n",
    "# Calculate mean sentiment score grouped by ticker and date\n",
    "mean_df = df.groupby(['ticker', 'date'])['compound'].mean().unstack()\n",
    "\n",
    "# Handle case where mean_df might be empty or NaN\n",
    "if mean_df.empty or mean_df.isnull().values.all():\n",
    "    print(\"No valid data available for plotting.\")\n",
    "else:\n",
    "    plt.figure(figsize=(10, 8))\n",
    "    mean_df.plot(kind='bar')\n",
    "    plt.title('Average Sentiment Score by Ticker and Date')\n",
    "    plt.ylabel('Average Sentiment Score')\n",
    "    plt.show()\n"
   ]
  }
 ],
 "metadata": {
  "kernelspec": {
   "display_name": "base",
   "language": "python",
   "name": "python3"
  },
  "language_info": {
   "codemirror_mode": {
    "name": "ipython",
    "version": 3
   },
   "file_extension": ".py",
   "mimetype": "text/x-python",
   "name": "python",
   "nbconvert_exporter": "python",
   "pygments_lexer": "ipython3",
   "version": "3.11.8"
  }
 },
 "nbformat": 4,
 "nbformat_minor": 2
}
